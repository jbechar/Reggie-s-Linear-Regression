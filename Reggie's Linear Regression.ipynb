{
 "cells": [
  {
   "cell_type": "markdown",
   "id": "a6de0259",
   "metadata": {},
   "source": [
    "Reggie is a mad scientist who has been hired by the local fast food joint to build their newest ball pit in the play area. As such, he is working on researching the bounciness of different balls so as to optimize the pit. He is running an experiment to bounce different sizes of bouncy balls, and then fitting lines to the data points he records. He has heard of linear regression, but needs your help to implement a version of linear regression in Python.\n",
    "\n",
    "Linear Regression is when you have a group of points on a graph, and you find a line that approximately resembles that group of points. A good Linear Regression algorithm minimizes the error, or the distance from each point to the line. A line with the least error is the line that fits the data the best. We call this a line of best fit.\n",
    "\n",
    "In this project, you’ll combine your knowledge of loops, lists, and arithmetic to create a function that will find a line of best fit when given a set of data.\n"
   ]
  },
  {
   "cell_type": "markdown",
   "id": "4f8f1061",
   "metadata": {},
   "source": [
    "The line we will end up with will have a formula that looks like:\n",
    "\n",
    "y = m*x + b\n",
    "where m is the slope of the line and b is the intercept, where the line crosses the y-axis.\n",
    "\n",
    "Create a function called get_y() that takes in m, b, and x. It should return what the y value would be for that x on that line!\n",
    "\n",
    "Once you have defined get_y(), test it out by uncommenting the print() statements and checking if the expected values display in the terminal."
   ]
  },
  {
   "cell_type": "code",
   "execution_count": 2,
   "id": "cfc7e4b2",
   "metadata": {},
   "outputs": [],
   "source": [
    "def get_y(m,b,x):\n",
    "  y = (m*x) + b\n",
    "  return y\n",
    "#this formula calculates any y value for any point on a line so long as we have the x coordinate, the slope of the line and the y intercept\n",
    "# Uncomment each print() statement to check your work. Each of the following should print True\n",
    "#print(get_y(1, 0, 7) == 7)\n",
    "#print(get_y(5, 10, 3) == 25)"
   ]
  },
  {
   "cell_type": "markdown",
   "id": "3c8559ea",
   "metadata": {},
   "source": [
    "Reggie wants to try a bunch of different m values and b values and see which line produces the least error. To calculate the error between a point and a line, he wants a function called calculate_error(), which will take in m, b, and an [x, y] point called point and return the distance between the line and the point."
   ]
  },
  {
   "cell_type": "code",
   "execution_count": 3,
   "id": "47e6a19f",
   "metadata": {},
   "outputs": [
    {
     "name": "stdout",
     "output_type": "stream",
     "text": [
      "0\n",
      "1\n",
      "1\n",
      "5\n"
     ]
    }
   ],
   "source": [
    "def calculate_error(m,b,point):\n",
    "  x_point = point[0]\n",
    "  y_point = point[1]\n",
    "  y = get_y(m,b,x_point)\n",
    "  diff = y - y_point\n",
    "  return abs(diff)\n",
    "# Task 4\n",
    "# Uncomment each print() statement and check the output against the expected result\n",
    "\n",
    "# this is a line that looks like y = x, so (3, 3) should lie on it. thus, error should be 0:\n",
    "print(calculate_error(1, 0, (3, 3)))\n",
    "\n",
    "# the point (3, 4) should be 1 unit away from the line y = x:\n",
    "print(calculate_error(1, 0, (3, 4)))\n",
    "\n",
    "# the point (3, 3) should be 1 unit away from the line y = x - 1:\n",
    "print(calculate_error(1, -1, (3, 3)))\n",
    "\n",
    "# the point (3, 3) should be 5 units away from the line y = -x + 1:\n",
    "print(calculate_error(-1, 1, (3, 3)))"
   ]
  },
  {
   "cell_type": "markdown",
   "id": "34d5d282",
   "metadata": {},
   "source": [
    "Great! Reggie’s datasets will be sets of points. For example, he ran an experiment comparing the width of bouncy balls to how high they bounce:\n",
    "\n",
    "datapoints = [(1, 2), (2, 0), (3, 4), (4, 4), (5, 3)]\n",
    "The first datapoint, (1, 2), means that his 1cm bouncy ball bounced 2 meters. The 4cm bouncy ball bounced 4 meters.\n",
    "\n",
    "As we try to fit a line to this data, we will need a function called calculate_all_error(), which takes m and b that describe a line, and points, a set of data like the example above.\n",
    "\n",
    "calculate_all_error() should iterate through each point in points and calculate the error from that point to the line (using calculate_error()). It should keep a running total of the error, and then return that total after the loop."
   ]
  },
  {
   "cell_type": "code",
   "execution_count": 4,
   "id": "4fbc4987",
   "metadata": {},
   "outputs": [
    {
     "name": "stdout",
     "output_type": "stream",
     "text": [
      "0\n",
      "4\n",
      "4\n",
      "18\n"
     ]
    }
   ],
   "source": [
    "def calculate_all_error(m,b,points):\n",
    "  total_error = 0\n",
    "  for item in points:\n",
    "    result = calculate_error(m,b,item)\n",
    "    total_error += result\n",
    "    \n",
    "  return total_error\n",
    "\n",
    "\n",
    "# Uncomment each print() statement and check the output against the expected result\n",
    "datapoints = [(1, 1), (3, 3), (5, 5), (-1, -1)]\n",
    "\n",
    "# every point in this dataset lies upon y=x, so the total error should be zero:\n",
    "print(calculate_all_error(1, 0, datapoints))\n",
    "\n",
    "# every point in this dataset is 1 unit away from y = x + 1, so the total error should be 4:\n",
    "print(calculate_all_error(1, 1, datapoints))\n",
    "\n",
    "# every point in this dataset is 1 unit away from y = x - 1, so the total error should be 4:\n",
    "print(calculate_all_error(1, -1, datapoints))\n",
    "\n",
    "# the points in this dataset are 1, 5, 9, and 3 units away from y = -x + 1, respectively, so total error should be:\n",
    "# 1 + 5 + 9 + 3 = 18\n",
    "print(calculate_all_error(-1, 1, datapoints))"
   ]
  },
  {
   "cell_type": "markdown",
   "id": "2c8e76d7",
   "metadata": {},
   "source": [
    "Our next step is to find the m and b that minimizes this error, and thus fits the data best!\n",
    "\n",
    "The way Reggie wants to find a line of best fit is by trial and error. He wants to try a bunch of different slopes (m values) and a bunch of different intercepts (b values) and see which one produces the smallest error value for his dataset.\n",
    "\n",
    "Using a list comprehension, let’s create a list of possible m values to try. Make the list possible_ms that goes from -10 to 10 inclusive, in increments of 0.1."
   ]
  },
  {
   "cell_type": "code",
   "execution_count": null,
   "id": "7c4685e7",
   "metadata": {},
   "outputs": [],
   "source": [
    "possible_ms = [i/10 for i in range(-100,101, 1)]\n",
    "#print(possible_ms)\n",
    "#to generate our possible values, we go through each value in the given range, then divide by 10 as the range value can not handle floats, we divide before the range function to make sure we are only diving the number in the range and not trying to divide the whole range itself"
   ]
  },
  {
   "cell_type": "markdown",
   "id": "2d54c487",
   "metadata": {},
   "source": [
    "Now, let’s make a list of possible_bs to check that would be the values from -20 to 20 inclusive, in steps of 0.1."
   ]
  },
  {
   "cell_type": "code",
   "execution_count": null,
   "id": "0ef05c3f",
   "metadata": {},
   "outputs": [],
   "source": [
    "possible_bs = [i/10 for i in range(-200, 201, 1)]"
   ]
  },
  {
   "cell_type": "markdown",
   "id": "0e63f1d4",
   "metadata": {},
   "source": [
    "We are going to find the smallest error. First, we will make every possible y = m*x + b line by pairing all of the possible ms with all of the possible bs. Then, we will see which y = m*x + b line produces the smallest total error with the set of data stored in datapoints.\n",
    "\n",
    "First, create the variables that we will be optimizing:\n",
    "\n",
    " - smallest_error — this should start at infinity (float(\"inf\")) so that any error we get at first will be smaller than our value of smallest_error\n",
    " - best_m — we can start this at 0\n",
    " - best_b — we can start this at 0\n",
    " We want to:\n",
    " - Iterate through each element m in possible_ms\n",
    " - For every m value, take every b value in possible_bs\n",
    " - If the value returned from calculate_all_error() on this m value, this b value, and datapoints is less than our current smallest_error,\n",
    "Set best_m and best_b to be these values, and set smallest_error to this error."
   ]
  },
  {
   "cell_type": "code",
   "execution_count": null,
   "id": "7f0de8d5",
   "metadata": {},
   "outputs": [],
   "source": [
    "for m in possible_ms:\n",
    "  for b in possible_bs:\n",
    "    error = calculate_all_error(m,b,datapoints)\n",
    "    if error < smallest_error:\n",
    "      best_m = m\n",
    "      best_b = b\n",
    "      smallest_error = error\n",
    "    else:\n",
    "      pass\n",
    "      \n",
    "print(best_m)\n",
    "print(best_b)\n",
    "print(smallest_error)\n",
    "#we first set 0 values for best m and b, then the float of infinity for the smallest possible value, as we want to find the smallest combination of values to give our error, so we set the beginning value as infinity.\n",
    "#we then iterate though all the m values, then all the b values, and we run this through the function to calculate error created earlier, after which we find the smallest error, print the associated m and b values\n"
   ]
  },
  {
   "cell_type": "markdown",
   "id": "7b077182",
   "metadata": {},
   "source": [
    "\n",
    "Now we have seen that for this set of observations on the bouncy balls, the line that fits the data best has an m of 0.4 and a b of 1.6:\n",
    "\n",
    "y = 0.4x + 1.6\n",
    "This line produced a total error of 5.\n",
    "\n",
    "Using this m and this b, what does your line predict the bounce height of a ball with a width of 6 to be? In other words, what is the output of get_y() when we call it with:\n",
    "\n",
    " - m = 0.4\n",
    " - b = 1.6\n",
    " - x = 6"
   ]
  },
  {
   "cell_type": "code",
   "execution_count": null,
   "id": "581e3ea3",
   "metadata": {},
   "outputs": [],
   "source": [
    "new_ball = get_y(0.4,1.6,6)\n",
    "print(new_ball)"
   ]
  }
 ],
 "metadata": {
  "kernelspec": {
   "display_name": "Python 3 (ipykernel)",
   "language": "python",
   "name": "python3"
  },
  "language_info": {
   "codemirror_mode": {
    "name": "ipython",
    "version": 3
   },
   "file_extension": ".py",
   "mimetype": "text/x-python",
   "name": "python",
   "nbconvert_exporter": "python",
   "pygments_lexer": "ipython3",
   "version": "3.9.12"
  }
 },
 "nbformat": 4,
 "nbformat_minor": 5
}
